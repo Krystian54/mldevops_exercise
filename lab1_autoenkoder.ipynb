{
 "cells": [
  {
   "cell_type": "code",
   "execution_count": 9,
   "id": "e0c94d8e",
   "metadata": {},
   "outputs": [],
   "source": [
    "import torch\n",
    "from torchvision import datasets\n",
    "from torchvision import transforms\n",
    "import matplotlib.pyplot as plt"
   ]
  },
  {
   "cell_type": "code",
   "execution_count": 10,
   "id": "288b0f3e",
   "metadata": {},
   "outputs": [
    {
     "name": "stderr",
     "output_type": "stream",
     "text": [
      "\u001b[34m\u001b[1mwandb\u001b[0m: \u001b[33mWARNING\u001b[0m Calling wandb.login() after wandb.init() has no effect.\n"
     ]
    },
    {
     "data": {
      "text/html": [
       "Finishing last run (ID:z7en0xv9) before initializing another..."
      ],
      "text/plain": [
       "<IPython.core.display.HTML object>"
      ]
     },
     "metadata": {},
     "output_type": "display_data"
    },
    {
     "data": {
      "text/html": [
       "<style>\n",
       "    table.wandb td:nth-child(1) { padding: 0 10px; text-align: left ; width: auto;} td:nth-child(2) {text-align: left ; width: 100%}\n",
       "    .wandb-row { display: flex; flex-direction: row; flex-wrap: wrap; justify-content: flex-start; width: 100% }\n",
       "    .wandb-col { display: flex; flex-direction: column; flex-basis: 100%; flex: 1; padding: 10px; }\n",
       "    </style>\n",
       "<div class=\"wandb-row\"><div class=\"wandb-col\"><h3>Run history:</h3><br/><table class=\"wandb\"><tr><td>loss</td><td>█▂▂▂▂▁▂▁▁▁▁▁▁▁▁▁▁▁▁▁▁▁▁▁▁▁▁▁▁▁▁▁▁▁▁▁▁▁▁▁</td></tr></table><br/></div><div class=\"wandb-col\"><h3>Run summary:</h3><br/><table class=\"wandb\"><tr><td>loss</td><td>0.02026</td></tr></table><br/></div></div>"
      ],
      "text/plain": [
       "<IPython.core.display.HTML object>"
      ]
     },
     "metadata": {},
     "output_type": "display_data"
    },
    {
     "data": {
      "text/html": [
       " View run <strong style=\"color:#cdcd00\">winter-monkey-1</strong> at: <a href='https://wandb.ai/krystianglod7-agh/my-awesome-project/runs/z7en0xv9' target=\"_blank\">https://wandb.ai/krystianglod7-agh/my-awesome-project/runs/z7en0xv9</a><br/> View project at: <a href='https://wandb.ai/krystianglod7-agh/my-awesome-project' target=\"_blank\">https://wandb.ai/krystianglod7-agh/my-awesome-project</a><br/>Synced 4 W&B file(s), 0 media file(s), 3 artifact file(s) and 0 other file(s)"
      ],
      "text/plain": [
       "<IPython.core.display.HTML object>"
      ]
     },
     "metadata": {},
     "output_type": "display_data"
    },
    {
     "data": {
      "text/html": [
       "Find logs at: <code>./wandb/run-20241103_170845-z7en0xv9/logs</code>"
      ],
      "text/plain": [
       "<IPython.core.display.HTML object>"
      ]
     },
     "metadata": {},
     "output_type": "display_data"
    },
    {
     "data": {
      "text/html": [
       "Successfully finished last run (ID:z7en0xv9). Initializing new run:<br/>"
      ],
      "text/plain": [
       "<IPython.core.display.HTML object>"
      ]
     },
     "metadata": {},
     "output_type": "display_data"
    },
    {
     "data": {
      "text/html": [
       "Tracking run with wandb version 0.18.5"
      ],
      "text/plain": [
       "<IPython.core.display.HTML object>"
      ]
     },
     "metadata": {},
     "output_type": "display_data"
    },
    {
     "data": {
      "text/html": [
       "Run data is saved locally in <code>/home/krystian/ws/mldevops_exercise/wandb/run-20241103_173345-p0889sf8</code>"
      ],
      "text/plain": [
       "<IPython.core.display.HTML object>"
      ]
     },
     "metadata": {},
     "output_type": "display_data"
    },
    {
     "data": {
      "text/html": [
       "Syncing run <strong><a href='https://wandb.ai/krystianglod7-agh/my-awesome-project/runs/p0889sf8' target=\"_blank\">light-star-2</a></strong> to <a href='https://wandb.ai/krystianglod7-agh/my-awesome-project' target=\"_blank\">Weights & Biases</a> (<a href='https://wandb.me/run' target=\"_blank\">docs</a>)<br/>"
      ],
      "text/plain": [
       "<IPython.core.display.HTML object>"
      ]
     },
     "metadata": {},
     "output_type": "display_data"
    },
    {
     "data": {
      "text/html": [
       " View project at <a href='https://wandb.ai/krystianglod7-agh/my-awesome-project' target=\"_blank\">https://wandb.ai/krystianglod7-agh/my-awesome-project</a>"
      ],
      "text/plain": [
       "<IPython.core.display.HTML object>"
      ]
     },
     "metadata": {},
     "output_type": "display_data"
    },
    {
     "data": {
      "text/html": [
       " View run at <a href='https://wandb.ai/krystianglod7-agh/my-awesome-project/runs/p0889sf8' target=\"_blank\">https://wandb.ai/krystianglod7-agh/my-awesome-project/runs/p0889sf8</a>"
      ],
      "text/plain": [
       "<IPython.core.display.HTML object>"
      ]
     },
     "metadata": {},
     "output_type": "display_data"
    }
   ],
   "source": [
    "import wandb\n",
    "\n",
    "wandb.login()\n",
    "\n",
    "run = wandb.init(\n",
    "    # Set the project where this run will be logged\n",
    "    project=\"my-awesome-project\",\n",
    "    # Track hyperparameters and run metadata\n",
    "    config={\n",
    "        \"learning_rate\": 0.001,\n",
    "        \"epochs\": 10,\n",
    "    },\n",
    ")"
   ]
  },
  {
   "cell_type": "code",
   "execution_count": 11,
   "id": "cf4c71dc",
   "metadata": {},
   "outputs": [
    {
     "name": "stderr",
     "output_type": "stream",
     "text": [
      "/home/krystian/.local/lib/python3.10/site-packages/tqdm/auto.py:21: TqdmWarning: IProgress not found. Please update jupyter and ipywidgets. See https://ipywidgets.readthedocs.io/en/stable/user_install.html\n",
      "  from .autonotebook import tqdm as notebook_tqdm\n"
     ]
    }
   ],
   "source": [
    "import optuna"
   ]
  },
  {
   "cell_type": "code",
   "execution_count": 12,
   "id": "46b0eff2",
   "metadata": {},
   "outputs": [],
   "source": [
    "# Transforms images to a PyTorch Tensor\n",
    "tensor_transform = transforms.ToTensor()\n",
    "\n",
    "# Download the MNIST Dataset\n",
    "dataset = datasets.FashionMNIST(root=\"./data\", train=True, download=True, transform=tensor_transform)\n",
    "\n",
    "# DataLoader is used to load the dataset for training\n",
    "loader = torch.utils.data.DataLoader(dataset=dataset, batch_size=32, shuffle=True)"
   ]
  },
  {
   "cell_type": "code",
   "execution_count": 13,
   "id": "82ec23f6",
   "metadata": {},
   "outputs": [],
   "source": [
    "# Creating a PyTorch class\n",
    "# 28*28 ==> 8 ==> 28*28\n",
    "class AE(torch.nn.Module):\n",
    "    def __init__(self):\n",
    "        super().__init__()\n",
    "\n",
    "        # Building an linear encoder with Linear\n",
    "        # layer followed by Relu activation function\n",
    "        # 784 ==> 8\n",
    "        self.encoder = torch.nn.Sequential(\n",
    "            torch.nn.Linear(28 * 28, 128),\n",
    "            torch.nn.ReLU(),\n",
    "            torch.nn.Linear(128, 64),\n",
    "            torch.nn.ReLU(),\n",
    "            torch.nn.Linear(64, 32),\n",
    "            torch.nn.ReLU(),\n",
    "            torch.nn.Linear(32, 16),\n",
    "            torch.nn.ReLU(),\n",
    "            torch.nn.Linear(16, 8),\n",
    "        )\n",
    "\n",
    "        # Building an linear decoder with Linear\n",
    "        # layer followed by Relu activation function\n",
    "        # The Sigmoid activation function\n",
    "        # outputs the value between 0 and 1\n",
    "        # 8 ==> 784\n",
    "        self.decoder = torch.nn.Sequential(\n",
    "            torch.nn.Linear(8, 16),\n",
    "            torch.nn.ReLU(),\n",
    "            torch.nn.Linear(16, 32),\n",
    "            torch.nn.ReLU(),\n",
    "            torch.nn.Linear(32, 64),\n",
    "            torch.nn.ReLU(),\n",
    "            torch.nn.Linear(64, 128),\n",
    "            torch.nn.ReLU(),\n",
    "            torch.nn.Linear(128, 28 * 28),\n",
    "            torch.nn.Sigmoid(),\n",
    "        )\n",
    "\n",
    "    def forward(self, x):\n",
    "        encoded = self.encoder(x)\n",
    "        decoded = self.decoder(encoded)\n",
    "        return decoded"
   ]
  },
  {
   "cell_type": "code",
   "execution_count": 14,
   "id": "3e22a657",
   "metadata": {},
   "outputs": [],
   "source": [
    "# Model Initialization\n",
    "model = AE()\n",
    "\n",
    "# Validation using MSE Loss function\n",
    "loss_function = torch.nn.MSELoss()\n",
    "\n",
    "# Using an Adam Optimizer with lr = 0.1\n",
    "optimizer = torch.optim.Adam(model.parameters(), lr=1e-3, weight_decay=1e-8)"
   ]
  },
  {
   "cell_type": "code",
   "execution_count": 15,
   "id": "49c78fdc",
   "metadata": {},
   "outputs": [
    {
     "name": "stderr",
     "output_type": "stream",
     "text": [
      "[I 2024-11-03 17:33:50,382] A new study created in memory with name: no-name-3af73de4-c52c-47ea-80f3-328d4c6fb259\n"
     ]
    },
    {
     "name": "stdout",
     "output_type": "stream",
     "text": [
      "Epoch:  0\n",
      "Loss 0.03336319699883461\n",
      "Epoch:  1\n",
      "Loss 0.02909882925450802\n",
      "Epoch:  2\n",
      "Loss 0.021884839981794357\n",
      "Epoch:  3\n",
      "Loss 0.02209015190601349\n",
      "Epoch:  4\n",
      "Loss 0.022297341376543045\n",
      "Epoch:  5\n",
      "Loss 0.021847238764166832\n",
      "Epoch:  6\n"
     ]
    },
    {
     "name": "stderr",
     "output_type": "stream",
     "text": [
      "[I 2024-11-03 17:35:12,001] Trial 0 finished with value: 0.022891433909535408 and parameters: {'epochs': 7}. Best is trial 0 with value: 0.022891433909535408.\n"
     ]
    },
    {
     "name": "stdout",
     "output_type": "stream",
     "text": [
      "Loss 0.022891433909535408\n",
      "Epoch:  0\n",
      "Loss 0.022220324724912643\n",
      "Epoch:  1\n",
      "Loss 0.021570995450019836\n",
      "Epoch:  2\n",
      "Loss 0.016582416370511055\n",
      "Epoch:  3\n",
      "Loss 0.019029689952731133\n",
      "Epoch:  4\n",
      "Loss 0.020977642387151718\n",
      "Epoch:  5\n",
      "Loss 0.020268399268388748\n",
      "Epoch:  6\n",
      "Loss 0.019667472690343857\n",
      "Epoch:  7\n",
      "Loss 0.015592856332659721\n",
      "Epoch:  8\n",
      "Loss 0.01601189188659191\n",
      "Epoch:  9\n"
     ]
    },
    {
     "name": "stderr",
     "output_type": "stream",
     "text": [
      "[I 2024-11-03 17:37:11,564] Trial 1 finished with value: 0.01766280084848404 and parameters: {'epochs': 10}. Best is trial 1 with value: 0.01766280084848404.\n"
     ]
    },
    {
     "name": "stdout",
     "output_type": "stream",
     "text": [
      "Loss 0.01766280084848404\n",
      "Epoch:  0\n"
     ]
    },
    {
     "name": "stderr",
     "output_type": "stream",
     "text": [
      "[I 2024-11-03 17:37:23,602] Trial 2 finished with value: 0.01946624554693699 and parameters: {'epochs': 1}. Best is trial 1 with value: 0.01766280084848404.\n"
     ]
    },
    {
     "name": "stdout",
     "output_type": "stream",
     "text": [
      "Loss 0.01946624554693699\n",
      "Best trial:\n",
      "  Value: 0.01766280084848404\n",
      "  Params:\n",
      "    epochs: 10\n"
     ]
    }
   ],
   "source": [
    "# epochs = 10\n",
    "# outputs = []\n",
    "# losses = []\n",
    "# for epoch in range(epochs):\n",
    "#     print(\"Epoch: \", epoch)\n",
    "#     for image, _ in loader:\n",
    "\n",
    "#         # Reshaping the image to (-1, 784)\n",
    "#         image = image.reshape(-1, 28 * 28)\n",
    "\n",
    "#         # Output of Autoencoder\n",
    "#         reconstructed = model(image)\n",
    "\n",
    "#         # Calculating the loss function\n",
    "#         loss = loss_function(reconstructed, image)\n",
    "\n",
    "#         # The gradients are set to zero,\n",
    "#         # the gradient is computed and stored.\n",
    "#         # .step() performs parameter update\n",
    "#         optimizer.zero_grad()\n",
    "#         loss.backward()\n",
    "#         optimizer.step()\n",
    "\n",
    "#         # Storing the losses in a list for plotting\n",
    "#         losses.append(loss.item())\n",
    "\n",
    "#         wandb.log({\"loss\": loss})\n",
    "\n",
    "\n",
    "#     outputs.append((epochs, image, reconstructed))\n",
    "#     print(\"Loss\", loss.item())\n",
    "\n",
    "# optuna\n",
    "def train_model(trial):\n",
    "    epochs = trial.suggest_int(\"epochs\", 1, 10)\n",
    "    outputs = []\n",
    "    losses = []\n",
    "    \n",
    "    for epoch in range(epochs):\n",
    "        print(\"Epoch: \", epoch)\n",
    "        for image, _ in loader:\n",
    "\n",
    "            # Reshaping the image to (-1, 784)\n",
    "            image = image.reshape(-1, 28 * 28)\n",
    "\n",
    "            # Output of Autoencoder\n",
    "            reconstructed = model(image)\n",
    "\n",
    "            # Calculating the loss function\n",
    "            loss = loss_function(reconstructed, image)\n",
    "\n",
    "            # The gradients are set to zero,\n",
    "            # the gradient is computed and stored.\n",
    "            # .step() performs parameter update\n",
    "            optimizer.zero_grad()\n",
    "            loss.backward()\n",
    "            optimizer.step()\n",
    "\n",
    "            # Storing the losses in a list for plotting\n",
    "            losses.append(loss.item())\n",
    "            wandb.log({\"loss\": loss})\n",
    "\n",
    "        outputs.append((epoch, image, reconstructed))\n",
    "        print(\"Loss\", loss.item())\n",
    "    \n",
    "    return losses[-1]\n",
    "\n",
    "\n",
    "study = optuna.create_study(direction=\"minimize\")\n",
    "study.optimize(train_model, n_trials=3)\n",
    "\n",
    "print(\"Best trial:\")\n",
    "trial = study.best_trial\n",
    "print(f\"  Value: {trial.value}\")\n",
    "print(\"  Params:\")\n",
    "for key, value in trial.params.items():\n",
    "    print(f\"    {key}: {value}\")"
   ]
  },
  {
   "cell_type": "code",
   "execution_count": 16,
   "id": "04e20ce1",
   "metadata": {},
   "outputs": [],
   "source": [
    "# # Defining the Plot Style\n",
    "# plt.style.use(\"fivethirtyeight\")\n",
    "# plt.xlabel(\"Iterations\")\n",
    "# plt.ylabel(\"Loss\")\n",
    "\n",
    "# # Plotting the last 100 values\n",
    "# plt.plot(losses[-100:])"
   ]
  },
  {
   "cell_type": "code",
   "execution_count": 17,
   "id": "7c0f9567",
   "metadata": {},
   "outputs": [],
   "source": [
    "# example = image[:5].cpu().detach().numpy()\n",
    "# reconstructed_example = reconstructed[:5].cpu().detach().numpy()\n",
    "\n",
    "# for i in range(5):\n",
    "#     plt.subplot(2, 5, i + 1)\n",
    "#     plt.imshow(example[i].reshape(28, 28), cmap=\"gray\")\n",
    "#     plt.axis(\"off\")\n",
    "\n",
    "#     plt.subplot(2, 5, i + 6)\n",
    "#     plt.imshow(reconstructed_example[i].reshape(28, 28), cmap=\"gray\")\n",
    "#     plt.axis(\"off\")\n",
    "\n",
    "# plt.show()"
   ]
  }
 ],
 "metadata": {
  "kernelspec": {
   "display_name": "Python 3",
   "language": "python",
   "name": "python3"
  },
  "language_info": {
   "codemirror_mode": {
    "name": "ipython",
    "version": 3
   },
   "file_extension": ".py",
   "mimetype": "text/x-python",
   "name": "python",
   "nbconvert_exporter": "python",
   "pygments_lexer": "ipython3",
   "version": "3.10.12"
  }
 },
 "nbformat": 4,
 "nbformat_minor": 5
}
